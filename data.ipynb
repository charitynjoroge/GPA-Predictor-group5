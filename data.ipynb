{
 "cells": [
  {
   "cell_type": "code",
   "execution_count": null,
   "id": "25bcac87",
   "metadata": {},
   "outputs": [],
   "source": [
    "# Sample dataset: study hours and corresponding GPA\n",
    "data = {\n",
    "    \"0-2\": [1.0, 1.2, 1.4],        \n",
    "    \"2-4\": [1.6, 1.8, 2.0],        \n",
    "    \"4-6\": [2.2, 2.4, 2.6],        \n",
    "    \"6-8\": [2.8, 3.0, 3.2],        \n",
    "    \"8-10\": [3.4, 3.6, 3.8],       \n",
    "    \"10-12\": [4.0]                 \n",
    "}\n",
    "\n",
    "# Calculate average GPA for different study hours\n",
    "def calculate_average_gpa(data):\n",
    "    total_gpa = sum(sum(gpa_list) for gpa_list in data.values())  # Sum all GPA values\n",
    "    total_entries = sum(len(gpa_list) for gpa_list in data.values())  # Count total GPA entries\n",
    "    average_gpa = total_gpa / total_entries\n",
    "    return average_gpa\n",
    "\n",
    "average_gpa = calculate_average_gpa(data)\n",
    "print(f\"Average GPA: {average_gpa:.2f}\")\n",
    "\n",
    "\n"
   ]
  }
 ],
 "metadata": {
  "language_info": {
   "name": "python"
  }
 },
 "nbformat": 4,
 "nbformat_minor": 5
}
